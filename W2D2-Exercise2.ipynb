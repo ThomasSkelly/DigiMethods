{
 "cells": [
  {
   "cell_type": "markdown",
   "metadata": {},
   "source": [
    "# Exercise 2: Basic Python 2\n",
    "\n",
    "Builds on exercises provided with Programming with Python for Social Science by Phillip Brooker and from Social Data Science 2019 by Andreas Bjerre-Nielson\n",
    "\n",
    "## 2.1 Lists\n",
    "\n",
    "**Question 2.1.1**: make two lists, `mammals` and `reptiles`with respectively \"dog\",\"cat\",\"dolphin\" and \"gecko\",\"monitor lizard\",\"iguana\". What is the index of \"iguana\" in `reptiles`?"
   ]
  },
  {
   "cell_type": "code",
   "execution_count": 12,
   "metadata": {},
   "outputs": [
    {
     "data": {
      "text/plain": [
       "2"
      ]
     },
     "execution_count": 12,
     "metadata": {},
     "output_type": "execute_result"
    }
   ],
   "source": [
    "#Answer to question 2.1.1\n",
    "\n",
    "mammals = [\"dog\", \"cat\", \"dolphin\"]\n",
    "reptiles = [\"gecko\", \"monitor lizard\", \"iguana\"]\n",
    "\n",
    "reptiles[2]\n",
    "\n",
    "#How to identify the index\n",
    "\n",
    "reptiles.index(\"iguana\")\n",
    "\n",
    "#The answer is two"
   ]
  },
  {
   "cell_type": "markdown",
   "metadata": {},
   "source": [
    "**Question 2.1.2**: make a list `animals` which consist of first `mammals`, then `reptiles`. \n",
    "Hint: See what happens when you `+` two lists together. "
   ]
  },
  {
   "cell_type": "code",
   "execution_count": 14,
   "metadata": {},
   "outputs": [
    {
     "name": "stdout",
     "output_type": "stream",
     "text": [
      "['dog', 'cat', 'dolphin', 'gecko', 'monitor lizard', 'iguana']\n"
     ]
    }
   ],
   "source": [
    "#Answer to question 2.1.2\n",
    "\n",
    "animals = mammals + reptiles\n",
    "print(animals)\n",
    "\n",
    "#Done!!!"
   ]
  },
  {
   "cell_type": "markdown",
   "metadata": {},
   "source": [
    "**Question 2.1.3**: Create list `some_reptiles` that contains only the second and third elements of `reptiles`. "
   ]
  },
  {
   "cell_type": "code",
   "execution_count": 16,
   "metadata": {},
   "outputs": [
    {
     "name": "stdout",
     "output_type": "stream",
     "text": [
      "['monitor lizard', 'iguana']\n"
     ]
    }
   ],
   "source": [
    "#Answer to question 2.1.3\n",
    "\n",
    "#Marking the 1st and 3rd of the original lsit.\n",
    "\n",
    "some_reptiles = reptiles[1:3]\n",
    "print(some_reptiles)"
   ]
  },
  {
   "cell_type": "markdown",
   "metadata": {},
   "source": [
    "**Question 2.1.4**: replace the second element of `reptiles` with \"komodo dragon\". What are the values of `some_reptiles` now?"
   ]
  },
  {
   "cell_type": "code",
   "execution_count": 20,
   "metadata": {},
   "outputs": [
    {
     "name": "stdout",
     "output_type": "stream",
     "text": [
      "['gecko', 'komodo dragon', 'komodo dragon']\n"
     ]
    }
   ],
   "source": [
    "#Answer to question 2.1.4\n",
    "\n",
    "reptiles[1] = \"komodo dragon\"\n",
    "print(reptiles)\n",
    "\n",
    "#despite making an error of assigning komodo dragon to 2 indexes. But the logic is correct."
   ]
  },
  {
   "cell_type": "markdown",
   "metadata": {},
   "source": [
    "**Question 2.1.5**: Create a list `animals2` that contains nested lists `mammals` and `reptiles`. How would you access the element \"dolphin\"?"
   ]
  },
  {
   "cell_type": "code",
   "execution_count": 2,
   "metadata": {},
   "outputs": [
    {
     "ename": "NameError",
     "evalue": "name 'mammals' is not defined",
     "output_type": "error",
     "traceback": [
      "\u001b[1;31m---------------------------------------------------------------------------\u001b[0m",
      "\u001b[1;31mNameError\u001b[0m                                 Traceback (most recent call last)",
      "\u001b[1;32m<ipython-input-2-7d41cf3bc45f>\u001b[0m in \u001b[0;36m<module>\u001b[1;34m\u001b[0m\n\u001b[0;32m      1\u001b[0m \u001b[1;31m#Answer to question 2.1.5\u001b[0m\u001b[1;33m\u001b[0m\u001b[1;33m\u001b[0m\u001b[1;33m\u001b[0m\u001b[0m\n\u001b[0;32m      2\u001b[0m \u001b[1;33m\u001b[0m\u001b[0m\n\u001b[1;32m----> 3\u001b[1;33m \u001b[0manimals2\u001b[0m \u001b[1;33m=\u001b[0m \u001b[1;33m[\u001b[0m\u001b[0mmammals\u001b[0m\u001b[1;33m,\u001b[0m \u001b[0mreptiles\u001b[0m\u001b[1;33m]\u001b[0m\u001b[1;33m\u001b[0m\u001b[1;33m\u001b[0m\u001b[0m\n\u001b[0m\u001b[0;32m      4\u001b[0m \u001b[0mprint\u001b[0m\u001b[1;33m(\u001b[0m\u001b[0manimals2\u001b[0m\u001b[1;33m)\u001b[0m\u001b[1;33m\u001b[0m\u001b[1;33m\u001b[0m\u001b[0m\n\u001b[0;32m      5\u001b[0m \u001b[1;33m\u001b[0m\u001b[0m\n",
      "\u001b[1;31mNameError\u001b[0m: name 'mammals' is not defined"
     ]
    }
   ],
   "source": [
    "#Answer to question 2.1.5\n",
    "\n",
    "animals2 = [mammals, reptiles]\n",
    "print(animals2)\n",
    "\n",
    "animals2[0][2]"
   ]
  },
  {
   "cell_type": "markdown",
   "metadata": {},
   "source": [
    "**Question 2.1.6**: What is the length of `animals` versus `animals2`? Why? "
   ]
  },
  {
   "cell_type": "code",
   "execution_count": 3,
   "metadata": {},
   "outputs": [
    {
     "ename": "NameError",
     "evalue": "name 'animals' is not defined",
     "output_type": "error",
     "traceback": [
      "\u001b[1;31m---------------------------------------------------------------------------\u001b[0m",
      "\u001b[1;31mNameError\u001b[0m                                 Traceback (most recent call last)",
      "\u001b[1;32m<ipython-input-3-109c55a0fd4e>\u001b[0m in \u001b[0;36m<module>\u001b[1;34m\u001b[0m\n\u001b[0;32m      1\u001b[0m \u001b[1;31m#Answer to question 2.1.6\u001b[0m\u001b[1;33m\u001b[0m\u001b[1;33m\u001b[0m\u001b[1;33m\u001b[0m\u001b[0m\n\u001b[1;32m----> 2\u001b[1;33m \u001b[0mlen\u001b[0m\u001b[1;33m(\u001b[0m\u001b[0manimals\u001b[0m\u001b[1;33m)\u001b[0m\u001b[1;33m-\u001b[0m\u001b[0mlen\u001b[0m\u001b[1;33m(\u001b[0m\u001b[0manimals2\u001b[0m\u001b[1;33m)\u001b[0m\u001b[1;33m\u001b[0m\u001b[1;33m\u001b[0m\u001b[0m\n\u001b[0m\u001b[0;32m      3\u001b[0m \u001b[1;33m\u001b[0m\u001b[0m\n\u001b[0;32m      4\u001b[0m \u001b[1;31m#animals2 is shorter, because its nested lists are considered as values (only containing 2)\u001b[0m\u001b[1;33m\u001b[0m\u001b[1;33m\u001b[0m\u001b[1;33m\u001b[0m\u001b[0m\n\u001b[0;32m      5\u001b[0m \u001b[1;31m#animals is longer, because it considers all its values (containing 6)\u001b[0m\u001b[1;33m\u001b[0m\u001b[1;33m\u001b[0m\u001b[1;33m\u001b[0m\u001b[0m\n",
      "\u001b[1;31mNameError\u001b[0m: name 'animals' is not defined"
     ]
    }
   ],
   "source": [
    "#Answer to question 2.1.6\n",
    "len(animals)-len(animals2)\n",
    "\n",
    "#animals2 is shorter, because its nested lists are considered as values (only containing 2)\n",
    "#animals is longer, because it considers all its values (containing 6)"
   ]
  },
  {
   "cell_type": "markdown",
   "metadata": {},
   "source": [
    "**Question 2.1.7**: Take the list below (it is the population of Denmark on Jan 1 from 1901 to 2020 in 1000s).\n",
    "\n",
    "How many elements are in the list? \n",
    "\n",
    "What is the range of the first 10 items? \n",
    "\n",
    "What is the range for elements between indices 80 and 90 (i.e. 1981 - 1991)? \n",
    "\n",
    "What was the population in 1904 (Hint: This is the fourth element in the list)"
   ]
  },
  {
   "cell_type": "code",
   "execution_count": 12,
   "metadata": {},
   "outputs": [
    {
     "data": {
      "text/plain": [
       "2532"
      ]
     },
     "execution_count": 12,
     "metadata": {},
     "output_type": "execute_result"
    }
   ],
   "source": [
    "#Data from https://www.statbank.dk/10021\n",
    "DK_population =[2447,2477,2506,2532,2560,2589,2621,2652,2687,2722,\n",
    "                2757,2788,2820,2851,2886,2921,2958,2991,3027,3061,\n",
    "                3265,3306,3340,3372,3406,3439,3467,3487,3510,3531,\n",
    "                3557,3590,3620,3651,3683,3711,3738,3765,3794,3826,\n",
    "                3849,3882,3926,3973,4023,4075,4123,4168,4211,4252,\n",
    "                4285,4315,4349,4389,4424,4454,4479,4501,4532,4566,\n",
    "                4601,4630,4666,4703,4741,4779,4820,4855,4879,4907,\n",
    "                4951,4976,5008,5036,5054,5065,5080,5097,5112,5122,\n",
    "                5124,5119,5116,5112,5111,5116,5125,5129,5130,5135,\n",
    "                5146,5162,5181,5197,5216,5251,5275,5295,5314,5330,\n",
    "                5349,5368,5384,5398,5411,5427,5447,5476,5511,5535,\n",
    "                5561,5581,5603,5627,5660,5707,5749,5781,5806,5823]\n",
    "\n",
    "#Answer to Question 2.1.8\n",
    "\n",
    "#question 1\n",
    "len(DK_population)\n",
    "\n",
    "#question 2 - range. Finding the range of the 10 first numbers.\n",
    "\n",
    "max(DK_population[0:10])-min(DK_population[0:10])\n",
    "#Answer i 275\n",
    "#question 3 - \n",
    "\n",
    "max(DK_population[80:91])-min(DK_population[80:91])\n",
    "#Answer is 35\n",
    "\n",
    "#Question 4 - Finding specific index\n",
    "DK_population[3]\n",
    "\n",
    "#Answer is 2532"
   ]
  },
  {
   "cell_type": "markdown",
   "metadata": {},
   "source": [
    "## 2.2 More Strings\n",
    "\n",
    "**Question 2.2.1**: Let `s1 = 'Chameleon`. From the string `s1` select the last four characters. What is the index of the character `a` in `s1`?\n",
    "\n",
    "*Hint*: We can selecting a substring by slicing it with the `[]` notation, from the start to end where start is included and end is excluded. Recall that Python has zero-based indexing, see explanation [here](https://softwareengineering.stackexchange.com/questions/110804/why-are-zero-based-arrays-the-norm).   "
   ]
  },
  {
   "cell_type": "code",
   "execution_count": 64,
   "metadata": {},
   "outputs": [
    {
     "data": {
      "text/plain": [
       "2"
      ]
     },
     "execution_count": 64,
     "metadata": {},
     "output_type": "execute_result"
    }
   ],
   "source": [
    "#Answer to question 2.2.1\n",
    "s1=\"Chameleon\"\n",
    "\n",
    "s1[-4:]\n",
    "\n",
    "s1.index(\"a\")\n",
    "\n",
    "#Using index method to find a's index number. \n"
   ]
  },
  {
   "cell_type": "markdown",
   "metadata": {},
   "source": [
    "**Quesion 2.2.2**: Let `my_url` be a url of your choice. Retrieve the part of a string before a specified character. \n",
    "For example, if your URL is the link for our course: https://kurser.ku.dk/course/aana18119u/2019-2020 and specific character is '/', then you should retrieve https://kurser.ku.dk/course/aana18119u. \n",
    "\n",
    "Remember that you can consult the [documentation for strings](https://docs.python.org/2.5/lib/string-methods.html) to find relevant methods "
   ]
  },
  {
   "cell_type": "code",
   "execution_count": 65,
   "metadata": {},
   "outputs": [
    {
     "data": {
      "text/plain": [
       "['https://kurser.ku.dk/course/aana18119u', '']"
      ]
     },
     "execution_count": 65,
     "metadata": {},
     "output_type": "execute_result"
    }
   ],
   "source": [
    "#Answer to question 2.2.2\n",
    "my_url = \"https://kurser.ku.dk/course/aana18119u/2019-2020\"\n",
    "my_url.split(\"/2019-2020\")\n",
    "\n",
    "#Using .split to split the specific part from it."
   ]
  },
  {
   "cell_type": "markdown",
   "metadata": {},
   "source": [
    "## 2.3 Conditions and Loops\n",
    "\n",
    "**Question 2.3.1**: Revisit your script workflow from the previous assignment (Question 1.4.3). For which part of your script would you need to use a loop? What kind of loop would you use?"
   ]
  },
  {
   "cell_type": "markdown",
   "metadata": {},
   "source": [
    "#Answer to question 2.3.1\n",
    "\n",
    "\n",
    "1-Is it lunch time?\n",
    "\n",
    "if no, keep doing work! Wait 30 minutes then return to step 1. \n",
    "\n",
    "if yes, continue to the next step\n",
    "2-Are you hungry?\n",
    "\n",
    "if no, keep doing work! Wait 30 minutes then return to step 1. \n",
    "\n",
    "if yes, continue to the next step\n",
    "3-Did you bring lunch?\n",
    "\n",
    "if yes, proceed to step 6\n",
    "\n",
    "if no, continue to the next step\n",
    "4-Go to the canteen\n",
    "\n",
    "5-Buy lunch\n",
    "\n",
    "6-Find people to eat lunch with\n",
    "\n",
    "7-Eat lunch\n",
    "\n",
    "8-Wait until tomorrow, then return to step 1"
   ]
  },
  {
   "cell_type": "code",
   "execution_count": null,
   "metadata": {},
   "outputs": [],
   "source": [
    "#Answering the above with while loop.\n",
    "\n",
    "#1, 2 and 8 are up for while loops. \n",
    "\n",
    "\n",
    "\n"
   ]
  },
  {
   "cell_type": "markdown",
   "metadata": {},
   "source": [
    "**Question 2.3.2**: Using the list of population size `DK_population` from above, calculate the average population of Denmark from year 1901 to 2020 (the whole list) using a loop. Round to the nearest whole number."
   ]
  },
  {
   "cell_type": "code",
   "execution_count": 34,
   "metadata": {},
   "outputs": [
    {
     "name": "stdout",
     "output_type": "stream",
     "text": [
      "4362.975\n"
     ]
    }
   ],
   "source": [
    "#Answer to question 2.3.2\n",
    "\n",
    "\n",
    "avg_pop=0\n",
    "\n",
    "#Looping through the elements to create a sum of all of them\n",
    "for i in DK_population:\n",
    "    avg_pop+= i \n",
    "\n",
    "avg_pop/=len(DK_population) #divides the sum of the average population with \n",
    "#the length (number of years) in the sample\n",
    "print(avg_pop)\n",
    "\n",
    "#+= and not merely + is necessary to cumulate the numbers. "
   ]
  },
  {
   "cell_type": "code",
   "execution_count": 67,
   "metadata": {},
   "outputs": [
    {
     "name": "stdout",
     "output_type": "stream",
     "text": [
      "0.0\n"
     ]
    }
   ],
   "source": [
    "\n"
   ]
  },
  {
   "cell_type": "code",
   "execution_count": 3,
   "metadata": {},
   "outputs": [
    {
     "name": "stdout",
     "output_type": "stream",
     "text": [
      "1\n",
      "2\n",
      "Fizz\n",
      "4\n",
      "Buzz\n",
      "Fizz\n",
      "7\n",
      "8\n",
      "Fizz\n",
      "Buzz\n",
      "11\n",
      "Fizz\n",
      "13\n",
      "14\n",
      "FizzBuzz\n",
      "16\n",
      "17\n",
      "Fizz\n",
      "19\n",
      "Buzz\n",
      "Fizz\n",
      "22\n",
      "23\n",
      "Fizz\n",
      "Buzz\n",
      "26\n",
      "Fizz\n",
      "28\n",
      "29\n",
      "FizzBuzz\n",
      "31\n",
      "32\n",
      "Fizz\n",
      "34\n",
      "Buzz\n",
      "Fizz\n",
      "37\n",
      "38\n",
      "Fizz\n",
      "Buzz\n",
      "41\n",
      "Fizz\n",
      "43\n",
      "44\n",
      "FizzBuzz\n",
      "46\n",
      "47\n",
      "Fizz\n",
      "49\n",
      "Buzz\n",
      "Fizz\n",
      "52\n",
      "53\n",
      "Fizz\n",
      "Buzz\n",
      "56\n",
      "Fizz\n",
      "58\n",
      "59\n",
      "FizzBuzz\n",
      "61\n",
      "62\n",
      "Fizz\n",
      "64\n",
      "Buzz\n",
      "Fizz\n",
      "67\n",
      "68\n",
      "Fizz\n",
      "Buzz\n",
      "71\n",
      "Fizz\n",
      "73\n",
      "74\n",
      "FizzBuzz\n",
      "76\n",
      "77\n",
      "Fizz\n",
      "79\n",
      "Buzz\n",
      "Fizz\n",
      "82\n",
      "83\n",
      "Fizz\n",
      "Buzz\n",
      "86\n",
      "Fizz\n",
      "88\n",
      "89\n",
      "FizzBuzz\n",
      "91\n",
      "92\n",
      "Fizz\n",
      "94\n",
      "Buzz\n",
      "Fizz\n",
      "97\n",
      "98\n",
      "Fizz\n",
      "Buzz\n"
     ]
    }
   ],
   "source": [
    "#Extra exercise from book. Using for loop with the fizzbuzz thing. \n",
    "#Here I am writing that in the range from 0-100 it has to let me know everytime the division\n",
    "#by 3 or 5 has a remainder of % it has to let me know (or both)\n",
    "\n",
    "for number in range(1,101):\n",
    "    if number % 5 == 0 and number % 3 == 0:\n",
    "        print (\"FizzBuzz\")\n",
    "    elif number % 3 == 0:\n",
    "        print (\"Fizz\")\n",
    "    elif number % 5 == 0:\n",
    "        print (\"Buzz\")\n",
    "    else: \n",
    "        print(number)"
   ]
  },
  {
   "cell_type": "markdown",
   "metadata": {},
   "source": [
    "**Question 2.3.3**: Suppose you want your population size list to show the full population, not represented in the 1000s (i.e. 2447 should really be 2447000). Using a loop, create a new list `DK_population_long` where the elements show the full population. If you used a for loop for Question 2.3.2 then use a while loop for this question, or vice versa. "
   ]
  },
  {
   "cell_type": "code",
   "execution_count": 41,
   "metadata": {},
   "outputs": [],
   "source": [
    "#Answer to Question 2.3.3\n",
    "#Initializing variables \n",
    "count = 0\n",
    "DK_population_long = []\n",
    "\n",
    "#using the while loop through DK_population adding each element\n",
    "#to DK_population_long and multiplying it by 1000\n",
    "while count < len(DK_population): \n",
    "    DK_population_long.append(DK_population[count]*1000)\n",
    "    count +=1"
   ]
  },
  {
   "cell_type": "markdown",
   "metadata": {},
   "source": [
    "## 2.4 Dictionaries\n",
    "**Question 2.4.1**: Take the list of population size `DK_population` above and make a Dictionary called `DK_population_dict` with keys year and population (with the appropriate values). Recall that the data represents 1901 to 2020.  "
   ]
  },
  {
   "cell_type": "code",
   "execution_count": 42,
   "metadata": {},
   "outputs": [
    {
     "name": "stdout",
     "output_type": "stream",
     "text": [
      "{1901: 2447, 1902: 2477, 1903: 2506, 1904: 2532, 1905: 2560, 1906: 2589, 1907: 2621, 1908: 2652, 1909: 2687, 1910: 2722, 1911: 2757, 1912: 2788, 1913: 2820, 1914: 2851, 1915: 2886, 1916: 2921, 1917: 2958, 1918: 2991, 1919: 3027, 1920: 3061, 1921: 3265, 1922: 3306, 1923: 3340, 1924: 3372, 1925: 3406, 1926: 3439, 1927: 3467, 1928: 3487, 1929: 3510, 1930: 3531, 1931: 3557, 1932: 3590, 1933: 3620, 1934: 3651, 1935: 3683, 1936: 3711, 1937: 3738, 1938: 3765, 1939: 3794, 1940: 3826, 1941: 3849, 1942: 3882, 1943: 3926, 1944: 3973, 1945: 4023, 1946: 4075, 1947: 4123, 1948: 4168, 1949: 4211, 1950: 4252, 1951: 4285, 1952: 4315, 1953: 4349, 1954: 4389, 1955: 4424, 1956: 4454, 1957: 4479, 1958: 4501, 1959: 4532, 1960: 4566, 1961: 4601, 1962: 4630, 1963: 4666, 1964: 4703, 1965: 4741, 1966: 4779, 1967: 4820, 1968: 4855, 1969: 4879, 1970: 4907, 1971: 4951, 1972: 4976, 1973: 5008, 1974: 5036, 1975: 5054, 1976: 5065, 1977: 5080, 1978: 5097, 1979: 5111, 1980: 5112, 1981: 5112, 1982: 5116, 1983: 5116, 1984: 5119, 1985: 5122, 1986: 5124, 1987: 5125, 1988: 5129, 1989: 5130, 1990: 5135, 1991: 5146, 1992: 5162, 1993: 5181, 1994: 5197, 1995: 5216, 1996: 5251, 1997: 5275, 1998: 5295, 1999: 5314, 2000: 5330, 2001: 5349, 2002: 5368, 2003: 5384, 2004: 5398, 2005: 5411, 2006: 5427, 2007: 5447, 2008: 5476, 2009: 5511, 2010: 5535, 2011: 5561, 2012: 5581, 2013: 5603, 2014: 5627, 2015: 5660, 2016: 5707, 2017: 5749, 2018: 5781, 2019: 5806, 2020: 5823}\n"
     ]
    }
   ],
   "source": [
    "#Answer to question 2.4.1\n",
    "\n",
    "#Creating a list of years\n",
    "years = list(range(1901,2021))\n",
    "\n",
    "#Zipping together the years and population\n",
    "key_values = list(zip(years, DK_population))\n",
    "\n",
    "#Creating a dictionary\n",
    "DK_population_dict = dict(key_values)\n",
    "\n",
    "#Printing dictionary to see results\n",
    "print(DK_population_dict)\n",
    "\n"
   ]
  },
  {
   "cell_type": "markdown",
   "metadata": {},
   "source": [
    "**Question 2.4.2**: What was the population in the year 1950?"
   ]
  },
  {
   "cell_type": "code",
   "execution_count": 44,
   "metadata": {},
   "outputs": [
    {
     "data": {
      "text/plain": [
       "4252"
      ]
     },
     "execution_count": 44,
     "metadata": {},
     "output_type": "execute_result"
    }
   ],
   "source": [
    "#Answer to question 2.4.2 \n",
    "\n",
    "DK_population_dict[1950]\n",
    "\n",
    "#NEEDS TO BE FINISHED\n"
   ]
  },
  {
   "cell_type": "markdown",
   "metadata": {},
   "source": [
    "**Question 2.4.3**: Write a dictionary called `my_dictionary` that stores:\n",
    "- Your favourite animal\n",
    "- Your favourite colour\n",
    "- Your favourite TV Show\n",
    "- Your favourite film"
   ]
  },
  {
   "cell_type": "code",
   "execution_count": 9,
   "metadata": {},
   "outputs": [],
   "source": [
    "#Answer to question 2.4.3 \n",
    "my_dictionary = {\"fav_animal\": \"penguin\",\n",
    "                \"fav color\": \"pink\",\n",
    "                \"TV-show\": \"How I met\",\n",
    "                \"Film\": \"Interstellar\"}"
   ]
  },
  {
   "cell_type": "markdown",
   "metadata": {},
   "source": [
    "**Question 2.4.4**: Add a key and value to the your dictionary from 2.4.3 with your favourite band or artist. "
   ]
  },
  {
   "cell_type": "code",
   "execution_count": 103,
   "metadata": {},
   "outputs": [
    {
     "data": {
      "text/plain": [
       "dict_keys(['fav_animal', 'fav color', 'TV-show', 'Film'])"
      ]
     },
     "execution_count": 103,
     "metadata": {},
     "output_type": "execute_result"
    }
   ],
   "source": [
    "#Answer to question 2.4.4\n",
    "my_dictionary.keys()\n",
    "#Writes out the keys for the dictionary"
   ]
  },
  {
   "cell_type": "code",
   "execution_count": 105,
   "metadata": {},
   "outputs": [
    {
     "data": {
      "text/plain": [
       "dict_values(['penguin', 'pink', 'How I met', 'Interstellar'])"
      ]
     },
     "execution_count": 105,
     "metadata": {},
     "output_type": "execute_result"
    }
   ],
   "source": [
    "my_dictionary.values()\n",
    "#Writes out the values for the keys in dictionary"
   ]
  },
  {
   "cell_type": "code",
   "execution_count": 108,
   "metadata": {},
   "outputs": [
    {
     "name": "stdout",
     "output_type": "stream",
     "text": [
      "{'fav_animal': 'penguin', 'fav color': 'pink', 'TV-show': 'How I met', 'Film': 'Interstellar', 'band': 'KsE'}\n"
     ]
    }
   ],
   "source": [
    "#the actual answer to the question. Adding a new entry to the dictionary. \n",
    "\n",
    "my_dictionary[\"band\"] = \"KsE\"\n",
    "print(my_dictionary)\n",
    "\n",
    "#Success!!"
   ]
  },
  {
   "cell_type": "markdown",
   "metadata": {},
   "source": [
    "**Question 2.4.5**: \n",
    "1. Delete the favourite film field.\n",
    "2. Create an empty dictionary with the variable name as your favourite movie \n",
    "3. Populate the dictionary with the following keys (and give them values): \n",
    "    - Year\n",
    "    - Genre\n",
    "4. Do steps 2 and 3 for a two or three movies. \n",
    "5. Add the dictionaries of movies to a new dictionary called `favourite_movies` with the movie title as the key for each entry. \n",
    "6. Add `favourite_movies` to your `my_dictionary` under the key \"Favourite movies\"\n",
    "\n"
   ]
  },
  {
   "cell_type": "code",
   "execution_count": 121,
   "metadata": {},
   "outputs": [
    {
     "name": "stdout",
     "output_type": "stream",
     "text": [
      "{'fav_animal': 'penguin', 'fav color': 'pink', 'TV-show': 'How I met', 'band': 'KsE'}\n"
     ]
    },
    {
     "ename": "KeyError",
     "evalue": "'Film'",
     "output_type": "error",
     "traceback": [
      "\u001b[1;31m---------------------------------------------------------------------------\u001b[0m",
      "\u001b[1;31mKeyError\u001b[0m                                  Traceback (most recent call last)",
      "\u001b[1;32m<ipython-input-121-c81adaf6477f>\u001b[0m in \u001b[0;36m<module>\u001b[1;34m\u001b[0m\n\u001b[0;32m      2\u001b[0m \u001b[0mprint\u001b[0m\u001b[1;33m(\u001b[0m\u001b[0mmy_dictionary\u001b[0m\u001b[1;33m)\u001b[0m\u001b[1;33m\u001b[0m\u001b[1;33m\u001b[0m\u001b[0m\n\u001b[0;32m      3\u001b[0m \u001b[1;31m#1. Deleting the Film field.\u001b[0m\u001b[1;33m\u001b[0m\u001b[1;33m\u001b[0m\u001b[1;33m\u001b[0m\u001b[0m\n\u001b[1;32m----> 4\u001b[1;33m \u001b[1;32mdel\u001b[0m \u001b[0mmy_dictionary\u001b[0m\u001b[1;33m[\u001b[0m\u001b[1;34m\"Film\"\u001b[0m\u001b[1;33m]\u001b[0m\u001b[1;33m\u001b[0m\u001b[1;33m\u001b[0m\u001b[0m\n\u001b[0m\u001b[0;32m      5\u001b[0m \u001b[1;33m\u001b[0m\u001b[0m\n\u001b[0;32m      6\u001b[0m \u001b[1;33m\u001b[0m\u001b[0m\n",
      "\u001b[1;31mKeyError\u001b[0m: 'Film'"
     ]
    }
   ],
   "source": [
    "#Answer to question 2.4.5\n",
    "print(my_dictionary)\n",
    "#1. Deleting the Film field.\n",
    "del my_dictionary[\"Film\"]\n",
    "\n",
    "\n",
    "#Succes!!! It cannot be found no more"
   ]
  },
  {
   "cell_type": "code",
   "execution_count": 119,
   "metadata": {},
   "outputs": [
    {
     "name": "stdout",
     "output_type": "stream",
     "text": [
      "{'The_Dark_Knight', 'Interstellar', 'Forrest_Gump'}\n"
     ]
    }
   ],
   "source": [
    "#2 and 3\n",
    "Interstellar = {\"year\": \"2014\",\n",
    "               \"genre\": \"science-fiction\"}\n",
    "#4\n",
    "The_Dark_Knight = {\"year\": \"2008\",\n",
    "                  \"genre\": \"Action\"}\n",
    "Forrest_Gump = {\"year\": \"1994\",\n",
    "               \"genre\": \"who cares\"}\n",
    "#5\n",
    "favorite_movies = {\"Interstellar\", \"The_Dark_Knight\", \"Forrest_Gump\"}\n",
    "print(favorite_movies)"
   ]
  },
  {
   "cell_type": "code",
   "execution_count": 124,
   "metadata": {},
   "outputs": [
    {
     "name": "stdout",
     "output_type": "stream",
     "text": [
      "{'fav_animal': 'penguin', 'fav color': 'pink', 'TV-show': 'How I met', 'band': 'KsE', 'favorite_movies': {'The_Dark_Knight', 'Interstellar', 'Forrest_Gump'}}\n"
     ]
    }
   ],
   "source": [
    "#6. Adding favorite_movies to my_dictionary\n",
    "my_dictionary[\"favorite_movies\"] = favorite_movies\n",
    "print(my_dictionary)\n",
    "#Success!!!"
   ]
  },
  {
   "cell_type": "markdown",
   "metadata": {},
   "source": [
    "**Question 2.4.6**: See if you can print out different keys and values from `my_dictionary`. "
   ]
  },
  {
   "cell_type": "code",
   "execution_count": 130,
   "metadata": {},
   "outputs": [
    {
     "data": {
      "text/plain": [
       "'penguin'"
      ]
     },
     "execution_count": 130,
     "metadata": {},
     "output_type": "execute_result"
    }
   ],
   "source": [
    "#Answer to question 2.4.6\n",
    "#Attempting to take one random\n",
    "my_dictionary[\"fav_animal\"]\n",
    "\n"
   ]
  },
  {
   "cell_type": "code",
   "execution_count": 132,
   "metadata": {},
   "outputs": [
    {
     "data": {
      "text/plain": [
       "dict_keys(['fav_animal', 'fav color', 'TV-show', 'band', 'favorite_movies'])"
      ]
     },
     "execution_count": 132,
     "metadata": {},
     "output_type": "execute_result"
    }
   ],
   "source": [
    "#Trying to get an overview with the keys\n",
    "my_dictionary.keys()\n",
    "\n"
   ]
  },
  {
   "cell_type": "code",
   "execution_count": 131,
   "metadata": {},
   "outputs": [
    {
     "data": {
      "text/plain": [
       "dict_values(['penguin', 'pink', 'How I met', 'KsE', {'The_Dark_Knight', 'Interstellar', 'Forrest_Gump'}])"
      ]
     },
     "execution_count": 131,
     "metadata": {},
     "output_type": "execute_result"
    }
   ],
   "source": [
    "#Trying to see the values\n",
    "my_dictionary.values()"
   ]
  },
  {
   "cell_type": "markdown",
   "metadata": {},
   "source": [
    "## 2.5 Reflection\n",
    "**Question 2.5.1**: Write a brief paragraph reflecting on your experience learning programming today. What did you struggle with? What did you enjoy? What surprised you?"
   ]
  },
  {
   "cell_type": "code",
   "execution_count": null,
   "metadata": {},
   "outputs": [],
   "source": []
  },
  {
   "cell_type": "code",
   "execution_count": null,
   "metadata": {},
   "outputs": [],
   "source": [
    "#Answer to question 2.5.1"
   ]
  }
 ],
 "metadata": {
  "kernelspec": {
   "display_name": "Python 3",
   "language": "python",
   "name": "python3"
  },
  "language_info": {
   "codemirror_mode": {
    "name": "ipython",
    "version": 3
   },
   "file_extension": ".py",
   "mimetype": "text/x-python",
   "name": "python",
   "nbconvert_exporter": "python",
   "pygments_lexer": "ipython3",
   "version": "3.7.4"
  }
 },
 "nbformat": 4,
 "nbformat_minor": 2
}
