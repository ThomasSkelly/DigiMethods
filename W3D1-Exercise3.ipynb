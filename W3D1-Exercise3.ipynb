{
 "cells": [
  {
   "cell_type": "markdown",
   "metadata": {},
   "source": [
    "# Exercise 3: Functions and Data\n",
    "\n",
    "Builds on exercises provided by programminghistorian.org. \n",
    "\n",
    "## 3.1 Functions\n"
   ]
  },
  {
   "cell_type": "markdown",
   "metadata": {},
   "source": [
    "**Question 3.1.1**: Write a function `is_number` that uses the `try` and `except` structure to return `True` of the input is a number, or print a relevant error statement and returns `None` if the input is not a number. Test your function on several cases. "
   ]
  },
  {
   "cell_type": "code",
   "execution_count": 13,
   "metadata": {},
   "outputs": [],
   "source": [
    "def is_number(x): #defining the function\n",
    "    try:     #Using try to run the x value\n",
    "        value = int(x) #the value has to be an x value that is converted to int\n",
    "    except ValueError: #If the value is cannot be converted to int \n",
    "        print (\"This is not a number!!!\") #it should print \"this is not a number\"\n",
    "        return None #thus it should not return anything if it is not an int\n",
    "    return True #It should return true (I could also put a string message in here)\n",
    "\n",
    "\n"
   ]
  },
  {
   "cell_type": "code",
   "execution_count": 11,
   "metadata": {},
   "outputs": [
    {
     "data": {
      "text/plain": [
       "True"
      ]
     },
     "execution_count": 11,
     "metadata": {},
     "output_type": "execute_result"
    }
   ],
   "source": [
    "is_number(4)"
   ]
  },
  {
   "cell_type": "code",
   "execution_count": 14,
   "metadata": {},
   "outputs": [
    {
     "name": "stdout",
     "output_type": "stream",
     "text": [
      "Anna er dåm!!!\n"
     ]
    }
   ],
   "source": [
    "is_number('no')"
   ]
  },
  {
   "cell_type": "code",
   "execution_count": 10,
   "metadata": {},
   "outputs": [
    {
     "data": {
      "text/plain": [
       "True"
      ]
     },
     "execution_count": 10,
     "metadata": {},
     "output_type": "execute_result"
    }
   ],
   "source": [
    "is_number(4.5)"
   ]
  },
  {
   "cell_type": "code",
   "execution_count": 25,
   "metadata": {},
   "outputs": [
    {
     "ename": "SyntaxError",
     "evalue": "unexpected EOF while parsing (<ipython-input-25-550f50e12da0>, line 19)",
     "output_type": "error",
     "traceback": [
      "\u001b[1;36m  File \u001b[1;32m\"<ipython-input-25-550f50e12da0>\"\u001b[1;36m, line \u001b[1;32m19\u001b[0m\n\u001b[1;33m    \u001b[0m\n\u001b[1;37m    ^\u001b[0m\n\u001b[1;31mSyntaxError\u001b[0m\u001b[1;31m:\u001b[0m unexpected EOF while parsing\n"
     ]
    }
   ],
   "source": [
    "#Answer to question 3.1.1\n",
    "\n",
    "def is_number(x):\n",
    "    try:\n",
    "        value = int(x)\n",
    "        return(value)\n",
    "   # try:\n",
    "    #    value = float or int(element)\n",
    "    #except ValueError:\n",
    "     #   print (\"this is wrong\")\n",
    "      #  return None\n",
    "    #else:\n",
    "     #   print(True)\n",
    "        \n",
    "\n",
    "\n",
    "\n",
    "\n",
    "\n"
   ]
  },
  {
   "cell_type": "markdown",
   "metadata": {},
   "source": [
    "**Question 3.1.2**: Write some test cases for your function. Did you have to change your function based on your test cases? If so, explain. "
   ]
  },
  {
   "cell_type": "code",
   "execution_count": 41,
   "metadata": {},
   "outputs": [],
   "source": [
    "#Answer to question 3.1.2\n",
    "\n",
    "def is_number(x):\n",
    "    try:\n",
    "        value = int(x)\n",
    "    except ValueError:\n",
    "        print (\"False\")\n",
    "        return None\n",
    "    return True \n",
    "\n",
    "#The function currently says something is True if it is a number in string form. "
   ]
  },
  {
   "cell_type": "markdown",
   "metadata": {},
   "source": [
    "**Question 3.1.3**: Write a function `word_freq` that takes in a list of words and counts the frequency of each word in the list. Your function should return a dictionary with the word as the key and the count as the value. \n",
    "\n",
    "Hint: Useful list methods to look at is `count()`."
   ]
  },
  {
   "cell_type": "code",
   "execution_count": 2,
   "metadata": {},
   "outputs": [],
   "source": [
    "#Answer to question 3.1.3\n",
    "\n",
    "my_list = [\"hey\", \"hey\", \"hi\", \"hello\"]\n",
    "count=0 #the value it starts from counting\n",
    "\n",
    "b_list = [1, 1, 1, 2, 3, 4]\n",
    "\n",
    "a_list = my_list\n",
    "\n",
    "#Function should be one that takes in a list of words and counts the frequency of\n",
    "#each word in the list. \n",
    "# Your function should return a dictionary with the word as the key and the count as the value.\n",
    "\n",
    "def word_freq(x): #Define function\n",
    "    word_freq = [x.count(w) for w in x] #This part should take in the list of word\n",
    "                                       #and count the frequency of the words in the list\n",
    "    return dict(list(zip(x,word_freq))) #it has to return a dictionary that zips the function\n",
    "                                        #with the original list to have the words as the key\n",
    "                                        #and count as the value\n",
    "\n"
   ]
  },
  {
   "cell_type": "code",
   "execution_count": 3,
   "metadata": {},
   "outputs": [
    {
     "data": {
      "text/plain": [
       "{'hey': 2, 'hi': 1, 'hello': 1}"
      ]
     },
     "execution_count": 3,
     "metadata": {},
     "output_type": "execute_result"
    }
   ],
   "source": [
    "x = a_list\n",
    "word_freq(x)\n"
   ]
  },
  {
   "cell_type": "code",
   "execution_count": 48,
   "metadata": {},
   "outputs": [
    {
     "data": {
      "text/plain": [
       "{1: 3, 2: 1, 3: 1, 4: 1}"
      ]
     },
     "execution_count": 48,
     "metadata": {},
     "output_type": "execute_result"
    }
   ],
   "source": [
    "\n"
   ]
  },
  {
   "cell_type": "markdown",
   "metadata": {},
   "source": [
    "**Question 3.1.4**: Write a function  `sort_freq_dict` that takes a dictionary of key value pairs that are words and their frequencies. The function should turn the dictionary into a list of (freq, word) tuples, sorted highest to lowest by frequency. The function should return this list. \n",
    "\n",
    "Hint: list methods `sort()` and `reverse()` will be useful. "
   ]
  },
  {
   "cell_type": "code",
   "execution_count": 30,
   "metadata": {},
   "outputs": [],
   "source": [
    "#Answer to question 3.1.4\n",
    "\n",
    "animals = {\"dog\":5,\n",
    "          \"cat\":2,\n",
    "          \"hamster\":3}\n",
    "\n",
    "def sort_freq_dict(x):\n",
    "    New_list = [(v, k) for k, v in x.items()] #creating a list of tuples\n",
    "    #from the dictionary with v (values) and k (keys). It follows the same code logic as the dict\n",
    "    #with v (e.g. \"dog\") and k (e.g. \"5\")\n",
    "    #Taking the dictionary's words and\n",
    "    #their frequences and turning it into a list of freq,word tuples sorted by frequency\n",
    "    New_list.sort() #sorting the frequencies of the list of tuples\n",
    "    New_list.reverse() #reversing the values\n",
    "    return New_list\n",
    "\n",
    "\n",
    "\n",
    "\n",
    "\n"
   ]
  },
  {
   "cell_type": "code",
   "execution_count": 31,
   "metadata": {},
   "outputs": [
    {
     "data": {
      "text/plain": [
       "[(5, 'dog'), (3, 'hamster'), (2, 'cat')]"
      ]
     },
     "execution_count": 31,
     "metadata": {},
     "output_type": "execute_result"
    }
   ],
   "source": [
    "#testing the function\n",
    "\n",
    "x = animals\n",
    "sort_freq_dict(x)\n",
    "\n",
    "#Success!!"
   ]
  },
  {
   "cell_type": "code",
   "execution_count": 66,
   "metadata": {},
   "outputs": [
    {
     "name": "stdout",
     "output_type": "stream",
     "text": [
      "<function sort_freq_dict at 0x00000212EF236288>\n"
     ]
    }
   ],
   "source": []
  },
  {
   "cell_type": "markdown",
   "metadata": {},
   "source": [
    "**Question 3.1.5**: Write a function called `remove_stop_words` that takes two lists of words as input (a word list and a stop word list). Your function should return a list of words with all the words in the word list except those found in the stop word list. \n",
    "\n",
    "Note: A stop word list is a list of common words (e.g. the, a, and, etc.)"
   ]
  },
  {
   "cell_type": "code",
   "execution_count": 71,
   "metadata": {},
   "outputs": [],
   "source": [
    "#Answer to question 3.1.5\n",
    "\n",
    "x1 = [\"lobster\", \"butter\", \"shrimp\", \"grits\"]\n",
    "y1 =[\"the\", \"a\", \"and\", \"be\"]\n",
    "\n",
    "\n",
    "\n",
    "def remove_stop_words(x, y):  #taking two lists as input\n",
    "    new_list = [] #making empty list\n",
    "    for w in x: #for every word in the normal word list\n",
    "        if w not in y: #and NOT for every word in stop_word (excluding them)\n",
    "            new_list.append(w) #append the words to the new list\n",
    "    return new_list #return the output of new list\n",
    "    "
   ]
  },
  {
   "cell_type": "code",
   "execution_count": 72,
   "metadata": {},
   "outputs": [
    {
     "data": {
      "text/plain": [
       "['lobster', 'butter', 'shrimp', 'grits']"
      ]
     },
     "execution_count": 72,
     "metadata": {},
     "output_type": "execute_result"
    }
   ],
   "source": [
    "#Testing the function with defined input\n",
    "\n",
    "remove_stop_words(x1, y1)\n"
   ]
  },
  {
   "cell_type": "code",
   "execution_count": null,
   "metadata": {
    "scrolled": true
   },
   "outputs": [],
   "source": []
  },
  {
   "cell_type": "markdown",
   "metadata": {},
   "source": [
    "## 2.2 Text Files\n",
    "\n",
    "**Question 2.2.1**: Read in the text files `stop_words.txt` and turn it into a list of words. \n",
    "\n",
    "Note: when you look at the file you see that each word is on a different line. Remember to remove the newline characters for each line/word.\n",
    "\n",
    "Stopwords from: http://ir.dcs.gla.ac.uk/resources/linguistic_utils/stop_words"
   ]
  },
  {
   "cell_type": "code",
   "execution_count": null,
   "metadata": {},
   "outputs": [],
   "source": []
  },
  {
   "cell_type": "code",
   "execution_count": 5,
   "metadata": {},
   "outputs": [
    {
     "data": {
      "text/plain": [
       "'a\\nabout\\nabove\\nacross\\nafter\\nagain\\nagainst\\nall\\nalmost\\nalone\\nalong\\nalready\\nalso\\nalthough\\nalways\\namong\\nan\\nand\\nanother\\nany\\nanybody\\nanyone\\nanything\\nanywhere\\nare\\narea\\nareas\\naround\\nas\\nask\\nasked\\nasking\\nasks\\nat\\naway\\nb\\nback\\nbacked\\nbacking\\nbacks\\nbe\\nbecame\\nbecause\\nbecome\\nbecomes\\nbeen\\nbefore\\nbegan\\nbehind\\nbeing\\nbeings\\nbest\\nbetter\\nbetween\\nbig\\nboth\\nbut\\nby\\nc\\ncame\\ncan\\ncannot\\ncase\\ncases\\ncertain\\ncertainly\\nclear\\nclearly\\ncome\\ncould\\nd\\ndid\\ndiffer\\ndifferent\\ndifferently\\ndo\\ndoes\\ndone\\ndown\\ndown\\ndowned\\ndowning\\ndowns\\nduring\\ne\\neach\\nearly\\neither\\nend\\nended\\nending\\nends\\nenough\\neven\\nevenly\\never\\nevery\\neverybody\\neveryone\\neverything\\neverywhere\\nf\\nface\\nfaces\\nfact\\nfacts\\nfar\\nfelt\\nfew\\nfind\\nfinds\\nfirst\\nfor\\nfour\\nfrom\\nfull\\nfully\\nfurther\\nfurthered\\nfurthering\\nfurthers\\ng\\ngave\\ngeneral\\ngenerally\\nget\\ngets\\ngive\\ngiven\\ngives\\ngo\\ngoing\\ngood\\ngoods\\ngot\\ngreat\\ngreater\\ngreatest\\ngroup\\ngrouped\\ngrouping\\ngroups\\nh\\nhad\\nhas\\nhave\\nhaving\\nhe\\nher\\nhere\\nherself\\nhigh\\nhigh\\nhigh\\nhigher\\nhighest\\nhim\\nhimself\\nhis\\nhow\\nhowever\\ni\\nif\\nimportant\\nin\\ninterest\\ninterested\\ninteresting\\ninterests\\ninto\\nis\\nit\\nits\\nitself\\nj\\njust\\nk\\nkeep\\nkeeps\\nkind\\nknew\\nknow\\nknown\\nknows\\nl\\nlarge\\nlargely\\nlast\\nlater\\nlatest\\nleast\\nless\\nlet\\nlets\\nlike\\nlikely\\nlong\\nlonger\\nlongest\\nm\\nmade\\nmake\\nmaking\\nman\\nmany\\nmay\\nme\\nmember\\nmembers\\nmen\\nmight\\nmore\\nmost\\nmostly\\nmr\\nmrs\\nmuch\\nmust\\nmy\\nmyself\\nn\\nnecessary\\nneed\\nneeded\\nneeding\\nneeds\\nnever\\nnew\\nnew\\nnewer\\nnewest\\nnext\\nno\\nnobody\\nnon\\nnoone\\nnot\\nnothing\\nnow\\nnowhere\\nnumber\\nnumbers\\no\\nof\\noff\\noften\\nold\\nolder\\noldest\\non\\nonce\\none\\nonly\\nopen\\nopened\\nopening\\nopens\\nor\\norder\\nordered\\nordering\\norders\\nother\\nothers\\nour\\nout\\nover\\np\\npart\\nparted\\nparting\\nparts\\nper\\nperhaps\\nplace\\nplaces\\npoint\\npointed\\npointing\\npoints\\npossible\\npresent\\npresented\\npresenting\\npresents\\nproblem\\nproblems\\nput\\nputs\\nq\\nquite\\nr\\nrather\\nreally\\nright\\nright\\nroom\\nrooms\\ns\\nsaid\\nsame\\nsaw\\nsay\\nsays\\nsecond\\nseconds\\nsee\\nseem\\nseemed\\nseeming\\nseems\\nsees\\nseveral\\nshall\\nshe\\nshould\\nshow\\nshowed\\nshowing\\nshows\\nside\\nsides\\nsince\\nsmall\\nsmaller\\nsmallest\\nso\\nsome\\nsomebody\\nsomeone\\nsomething\\nsomewhere\\nstate\\nstates\\nstill\\nstill\\nsuch\\nsure\\nt\\ntake\\ntaken\\nthan\\nthat\\nthe\\ntheir\\nthem\\nthen\\nthere\\ntherefore\\nthese\\nthey\\nthing\\nthings\\nthink\\nthinks\\nthis\\nthose\\nthough\\nthought\\nthoughts\\nthree\\nthrough\\nthus\\nto\\ntoday\\ntogether\\ntoo\\ntook\\ntoward\\nturn\\nturned\\nturning\\nturns\\ntwo\\nu\\nunder\\nuntil\\nup\\nupon\\nus\\nuse\\nused\\nuses\\nv\\nvery\\nw\\nwant\\nwanted\\nwanting\\nwants\\nwas\\nway\\nways\\nwe\\nwell\\nwells\\nwent\\nwere\\nwhat\\nwhen\\nwhere\\nwhether\\nwhich\\nwhile\\nwho\\nwhole\\nwhose\\nwhy\\nwill\\nwith\\nwithin\\nwithout\\nwork\\nworked\\nworking\\nworks\\nwould\\nx\\ny\\nyear\\nyears\\nyet\\nyou\\nyoung\\nyounger\\nyoungest\\nyour\\nyours\\nz'"
      ]
     },
     "execution_count": 5,
     "metadata": {},
     "output_type": "execute_result"
    }
   ],
   "source": [
    "#Answer to question 2.2.1 #Using the knowledge from page 188 to unfold this.\n",
    "\n",
    "words = open(\"stop_words.txt\", 'r')\n",
    "data = words.read()\n",
    "words.close()\n",
    "\n",
    "data\n"
   ]
  },
  {
   "cell_type": "code",
   "execution_count": 20,
   "metadata": {},
   "outputs": [
    {
     "name": "stdout",
     "output_type": "stream",
     "text": [
      "['a', 'about', 'above', 'across', 'after', 'again', 'against', 'all', 'almost', 'alone', 'along', 'already', 'also', 'although', 'always', 'among', 'an', 'and', 'another', 'any', 'anybody', 'anyone', 'anything', 'anywhere', 'are', 'area', 'areas', 'around', 'as', 'ask', 'asked', 'asking', 'asks', 'at', 'away', 'b', 'back', 'backed', 'backing', 'backs', 'be', 'became', 'because', 'become', 'becomes', 'been', 'before', 'began', 'behind', 'being', 'beings', 'best', 'better', 'between', 'big', 'both', 'but', 'by', 'c', 'came', 'can', 'cannot', 'case', 'cases', 'certain', 'certainly', 'clear', 'clearly', 'come', 'could', 'd', 'did', 'differ', 'different', 'differently', 'do', 'does', 'done', 'down', 'down', 'downed', 'downing', 'downs', 'during', 'e', 'each', 'early', 'either', 'end', 'ended', 'ending', 'ends', 'enough', 'even', 'evenly', 'ever', 'every', 'everybody', 'everyone', 'everything', 'everywhere', 'f', 'face', 'faces', 'fact', 'facts', 'far', 'felt', 'few', 'find', 'finds', 'first', 'for', 'four', 'from', 'full', 'fully', 'further', 'furthered', 'furthering', 'furthers', 'g', 'gave', 'general', 'generally', 'get', 'gets', 'give', 'given', 'gives', 'go', 'going', 'good', 'goods', 'got', 'great', 'greater', 'greatest', 'group', 'grouped', 'grouping', 'groups', 'h', 'had', 'has', 'have', 'having', 'he', 'her', 'here', 'herself', 'high', 'high', 'high', 'higher', 'highest', 'him', 'himself', 'his', 'how', 'however', 'i', 'if', 'important', 'in', 'interest', 'interested', 'interesting', 'interests', 'into', 'is', 'it', 'its', 'itself', 'j', 'just', 'k', 'keep', 'keeps', 'kind', 'knew', 'know', 'known', 'knows', 'l', 'large', 'largely', 'last', 'later', 'latest', 'least', 'less', 'let', 'lets', 'like', 'likely', 'long', 'longer', 'longest', 'm', 'made', 'make', 'making', 'man', 'many', 'may', 'me', 'member', 'members', 'men', 'might', 'more', 'most', 'mostly', 'mr', 'mrs', 'much', 'must', 'my', 'myself', 'n', 'necessary', 'need', 'needed', 'needing', 'needs', 'never', 'new', 'new', 'newer', 'newest', 'next', 'no', 'nobody', 'non', 'noone', 'not', 'nothing', 'now', 'nowhere', 'number', 'numbers', 'o', 'of', 'off', 'often', 'old', 'older', 'oldest', 'on', 'once', 'one', 'only', 'open', 'opened', 'opening', 'opens', 'or', 'order', 'ordered', 'ordering', 'orders', 'other', 'others', 'our', 'out', 'over', 'p', 'part', 'parted', 'parting', 'parts', 'per', 'perhaps', 'place', 'places', 'point', 'pointed', 'pointing', 'points', 'possible', 'present', 'presented', 'presenting', 'presents', 'problem', 'problems', 'put', 'puts', 'q', 'quite', 'r', 'rather', 'really', 'right', 'right', 'room', 'rooms', 's', 'said', 'same', 'saw', 'say', 'says', 'second', 'seconds', 'see', 'seem', 'seemed', 'seeming', 'seems', 'sees', 'several', 'shall', 'she', 'should', 'show', 'showed', 'showing', 'shows', 'side', 'sides', 'since', 'small', 'smaller', 'smallest', 'so', 'some', 'somebody', 'someone', 'something', 'somewhere', 'state', 'states', 'still', 'still', 'such', 'sure', 't', 'take', 'taken', 'than', 'that', 'the', 'their', 'them', 'then', 'there', 'therefore', 'these', 'they', 'thing', 'things', 'think', 'thinks', 'this', 'those', 'though', 'thought', 'thoughts', 'three', 'through', 'thus', 'to', 'today', 'together', 'too', 'took', 'toward', 'turn', 'turned', 'turning', 'turns', 'two', 'u', 'under', 'until', 'up', 'upon', 'us', 'use', 'used', 'uses', 'v', 'very', 'w', 'want', 'wanted', 'wanting', 'wants', 'was', 'way', 'ways', 'we', 'well', 'wells', 'went', 'were', 'what', 'when', 'where', 'whether', 'which', 'while', 'who', 'whole', 'whose', 'why', 'will', 'with', 'within', 'without', 'work', 'worked', 'working', 'works', 'would', 'x', 'y', 'year', 'years', 'yet', 'you', 'young', 'younger', 'youngest', 'your', 'yours', 'z']\n"
     ]
    }
   ],
   "source": [
    "words = open(\"stop_words.txt\", 'r')\n",
    "lineList = [line.rstrip('\\n') for line in open(\"stop_words.txt\")] #this method strips\n",
    "#every newline from the txt file in the text and at the same time creates a list!\n",
    "\n",
    "# printing result \n",
    "print(lineList)\n"
   ]
  },
  {
   "cell_type": "markdown",
   "metadata": {},
   "source": [
    "**Question 2.2.2**: Write a function `make_wordlist` that takes a filename as the argument. The function reads the file, turning the text to lower case and removes all non alpha-numeric characters. The function returns a list of all the words.  \n",
    "\n",
    "Hint: You will need to use a regular expression for only alphanumeric characters. Use `search(pattern, text)` and `group()` methods following the example in class.  \n"
   ]
  },
  {
   "cell_type": "code",
   "execution_count": 1,
   "metadata": {},
   "outputs": [],
   "source": [
    "#Answer to Question 2.2.2\n",
    "\n",
    "def make_wordlist(\"x.txt\"):\n",
    "    f = open(\"x.txt\", \"r\")\n",
    "    str.lower()\n",
    "    import re\n",
    "    \n",
    "    re.search('')\n",
    "    \n",
    "    #read the file\n",
    "    #turn text to lower case \n",
    "    str.lower()\n",
    "    #remove all non alpha-numeric charactercs\n",
    "    #return a list of all words\n",
    "    \n",
    "    #how to use search(pattern, text) and group() ?????\n",
    "    \n",
    "    \n",
    "\n"
   ]
  },
  {
   "cell_type": "markdown",
   "metadata": {},
   "source": [
    "**Question 2.2.3**: Putting the above together allows you to read a file, clean up the words to remove unwanted characters, and count the frequency of words in the text from the file. This results in a sorted list of words. \n",
    "\n",
    "Run the code below to count the frequency of words in `Speech_2019.txt`. This is the speech given by DK Prime Minister Mette Frederiksen at the opening of parliament. Original found [here](http://www.stm.dk/_p_14878.html).\n",
    "\n",
    "Write the resulting list of words frequencies to a new text file with an appropriate name. Have a look at the file, does it seem like all your functions are working as they should? \n",
    "\n",
    "Note: it is ok if you have words that are single letters or numbers. We'll work on improving our data cleaning techniques in later classes. "
   ]
  },
  {
   "cell_type": "code",
   "execution_count": 10,
   "metadata": {
    "collapsed": true
   },
   "outputs": [
    {
     "ename": "NameError",
     "evalue": "name 'make_word_list' is not defined",
     "output_type": "error",
     "traceback": [
      "\u001b[1;31m---------------------------------------------------------------------------\u001b[0m",
      "\u001b[1;31mNameError\u001b[0m                                 Traceback (most recent call last)",
      "\u001b[1;32m<ipython-input-10-f0f1a0ae3c3b>\u001b[0m in \u001b[0;36m<module>\u001b[1;34m\u001b[0m\n\u001b[0;32m      1\u001b[0m \u001b[1;31m#Read the file and turn it into a list of words\u001b[0m\u001b[1;33m\u001b[0m\u001b[1;33m\u001b[0m\u001b[1;33m\u001b[0m\u001b[0m\n\u001b[1;32m----> 2\u001b[1;33m \u001b[0mword_list\u001b[0m \u001b[1;33m=\u001b[0m \u001b[0mmake_word_list\u001b[0m\u001b[1;33m(\u001b[0m\u001b[1;34m'Speech_2019.txt'\u001b[0m\u001b[1;33m)\u001b[0m\u001b[1;33m\u001b[0m\u001b[1;33m\u001b[0m\u001b[0m\n\u001b[0m\u001b[0;32m      3\u001b[0m \u001b[1;31m#remove stop words from the list\u001b[0m\u001b[1;33m\u001b[0m\u001b[1;33m\u001b[0m\u001b[1;33m\u001b[0m\u001b[0m\n\u001b[0;32m      4\u001b[0m \u001b[0mword_list\u001b[0m \u001b[1;33m=\u001b[0m \u001b[0mremove_stop_words\u001b[0m\u001b[1;33m(\u001b[0m\u001b[0mword_list\u001b[0m\u001b[1;33m,\u001b[0m \u001b[0mstop_words\u001b[0m\u001b[1;33m)\u001b[0m\u001b[1;33m\u001b[0m\u001b[1;33m\u001b[0m\u001b[0m\n\u001b[0;32m      5\u001b[0m \u001b[1;31m#count the frequency of different words\u001b[0m\u001b[1;33m\u001b[0m\u001b[1;33m\u001b[0m\u001b[1;33m\u001b[0m\u001b[0m\n",
      "\u001b[1;31mNameError\u001b[0m: name 'make_word_list' is not defined"
     ]
    }
   ],
   "source": [
    "#Read the file and turn it into a list of words\n",
    "word_list = make_wordlist('Speech_2019.txt')\n",
    "#remove stop words from the list\n",
    "word_list = remove_stop_words(word_list, stop_words)\n",
    "#count the frequency of different words\n",
    "word_dict = word_freq(word_list)\n",
    "#sort the list\n",
    "sorted_words = sort_freq_dict(word_dict)"
   ]
  },
  {
   "cell_type": "code",
   "execution_count": null,
   "metadata": {},
   "outputs": [],
   "source": [
    "#Answer to question 2.2.3"
   ]
  },
  {
   "cell_type": "markdown",
   "metadata": {},
   "source": [
    "## 2.3 (More) Regular Expressions"
   ]
  },
  {
   "cell_type": "markdown",
   "metadata": {},
   "source": [
    "**Question 2.3.1**: Write a regular expression for a telephone number."
   ]
  },
  {
   "cell_type": "markdown",
   "metadata": {},
   "source": [
    "*Answer to Question 2.3.1* \n",
    "\n",
    "Note this cell is in markdown mode."
   ]
  },
  {
   "cell_type": "markdown",
   "metadata": {},
   "source": [
    "**Question 2.3.2**: Write a regular expression for a URL. \n",
    "\n",
    "Note: For this exercise you can use a simple solution that does not account for all possible conditions, but will capture most URLs."
   ]
  },
  {
   "cell_type": "markdown",
   "metadata": {},
   "source": [
    "*Answer to Question 2.3.2* \n",
    "\n",
    "Note this cell is in markdown mode."
   ]
  },
  {
   "cell_type": "markdown",
   "metadata": {},
   "source": [
    "## 2.4 Reflection\n",
    "**Question 2.4.1**: Write a brief paragraph reflecting on your experience learning programming today. What did you struggle with? What did you enjoy? What surprised you?"
   ]
  },
  {
   "cell_type": "code",
   "execution_count": null,
   "metadata": {},
   "outputs": [],
   "source": [
    "#Answer to question 2.4.1"
   ]
  }
 ],
 "metadata": {
  "kernelspec": {
   "display_name": "Python 3",
   "language": "python",
   "name": "python3"
  },
  "language_info": {
   "codemirror_mode": {
    "name": "ipython",
    "version": 3
   },
   "file_extension": ".py",
   "mimetype": "text/x-python",
   "name": "python",
   "nbconvert_exporter": "python",
   "pygments_lexer": "ipython3",
   "version": "3.7.4"
  }
 },
 "nbformat": 4,
 "nbformat_minor": 2
}
