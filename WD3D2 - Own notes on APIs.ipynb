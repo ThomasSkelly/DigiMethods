{
 "cells": [
  {
   "cell_type": "markdown",
   "metadata": {},
   "source": [
    "-\tApplication Programming Interfaces (APIs)\n",
    "\n",
    "What are they?\n",
    "\n",
    "\tInterface to extend functionality\n",
    "\tMechanisms to regulate data access\n",
    "\tPipelines for data accesss\n",
    "\tTools for data processing\n",
    "\n"
   ]
  },
  {
   "cell_type": "code",
   "execution_count": null,
   "metadata": {},
   "outputs": [],
   "source": [
    "###Using APIs\n",
    "\n",
    "###Manually: \n",
    "#Generate API calls\n",
    "#Parse return data\n",
    "#Use available tools/libaries\n",
    "\n",
    "###How do I use APIs?\n",
    "\n",
    "#a. Does one exist?\n",
    "# - DBA.dk does not have API we can use\n",
    "# - Boligportal does not have API we can use\n",
    "# - Mobilepay does have an API!\n",
    "\n",
    "#b. What functionality does it offer?\n",
    "\n",
    "#c. Is there a module to use it?\n",
    "\n",
    "###What APIs should I use\n",
    "\n",
    "#Check out this list get an idea of what's out there\n",
    "#programmableweb.com/apis/diretory\n",
    "\n",
    "#Some API examples\n",
    "#- Twitter ads\n",
    "#- ABBYY OCR\n",
    "#- Google Vision\n",
    "\n",
    "\n",
    "###Important Concepts\n",
    "\n",
    "#- Authentication/Credentials\n",
    "#- Rate Limiting (e.g. Twitter has a rate limit on 900 scrapes pr. 15 minutes)\n",
    "#- Algorithmic Drift\n",
    "\n",
    "\n",
    "### ETHICS\n",
    "\n",
    "#- Detailed discussion of ethics in \"Bit by Bit\" by Matthew Salganik\n",
    "#It can be found and read online (bitbybitbook.com)\n",
    "#Salganik lecture on Ethics at the Summer Institute\n",
    "#in Computatonal Science (find the link or search for it)\n",
    "\n",
    "#Why care about ethics?\n",
    "#- Fear\n",
    "#- Hope\n",
    "#- Necessity\n",
    "\n",
    "#Three approaches to ethics\n",
    "#a) Rules-based approach (law)\n",
    "#b) Ad hoc approach\n",
    "#c) Principles-based approach \n",
    "\n",
    "#Prominent examples\n",
    "#- Emotional Contagion\n",
    "#- Tastes, Ties, And Time\n",
    "#- Encore\n",
    "\n",
    "\n",
    "#Ethical Principles\n",
    "#- Respect for persons\n",
    "#- Beneficence\n",
    "#- Justice\n",
    "#- Respect for Law and Public Interest\n"
   ]
  },
  {
   "cell_type": "code",
   "execution_count": null,
   "metadata": {},
   "outputs": [],
   "source": []
  }
 ],
 "metadata": {
  "kernelspec": {
   "display_name": "Python 3",
   "language": "python",
   "name": "python3"
  },
  "language_info": {
   "codemirror_mode": {
    "name": "ipython",
    "version": 3
   },
   "file_extension": ".py",
   "mimetype": "text/x-python",
   "name": "python",
   "nbconvert_exporter": "python",
   "pygments_lexer": "ipython3",
   "version": "3.7.4"
  }
 },
 "nbformat": 4,
 "nbformat_minor": 2
}
