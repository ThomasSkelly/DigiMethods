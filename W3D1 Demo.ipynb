{
 "cells": [
  {
   "cell_type": "code",
   "execution_count": 1,
   "metadata": {},
   "outputs": [],
   "source": [
    "#Functions help us reuse code as they\n",
    "#saves time & and we can learn from and share with others\n",
    "#Modularity hels us as it:\n",
    "#It makes making changes easier, reduces likelihood of errors, and makes code more tidy\n",
    "#and readable.\n",
    "#Functions are smart because they are not bound to a variable. \n",
    "\n",
    "#New function average that calculates the average of \n",
    "#a list of numbers\n",
    "def average (a_list):\n",
    "    avg = 0\n",
    "    \n",
    "    #loop through elements and add them\n",
    "    for element in a_list: \n",
    "        avg += element\n",
    "    \n",
    "    #return the sum divided by the length of the list, e.g. number of elements\n",
    "    return (avg / len(a_list))\n",
    "     \n",
    "\n",
    "#my own\n",
    "def average (my_list):\n",
    "    avg = 0\n",
    "    for elements in my_list:\n",
    "        avg += elements\n",
    "    return(avg/len(my_list))"
   ]
  },
  {
   "cell_type": "code",
   "execution_count": 3,
   "metadata": {},
   "outputs": [
    {
     "name": "stdout",
     "output_type": "stream",
     "text": [
      "4362.975\n"
     ]
    }
   ],
   "source": [
    "#Data from https://www.statbank.dk/10021\n",
    "DK_population =[2447,2477,2506,2532,2560,2589,2621,2652,2687,2722,\n",
    "                2757,2788,2820,2851,2886,2921,2958,2991,3027,3061,\n",
    "                3265,3306,3340,3372,3406,3439,3467,3487,3510,3531,\n",
    "                3557,3590,3620,3651,3683,3711,3738,3765,3794,3826,\n",
    "                3849,3882,3926,3973,4023,4075,4123,4168,4211,4252,\n",
    "                4285,4315,4349,4389,4424,4454,4479,4501,4532,4566,\n",
    "                4601,4630,4666,4703,4741,4779,4820,4855,4879,4907,\n",
    "                4951,4976,5008,5036,5054,5065,5080,5097,5112,5122,\n",
    "                5124,5119,5116,5112,5111,5116,5125,5129,5130,5135,\n",
    "                5146,5162,5181,5197,5216,5251,5275,5295,5314,5330,\n",
    "                5349,5368,5384,5398,5411,5427,5447,5476,5511,5535,\n",
    "                5561,5581,5603,5627,5660,5707,5749,5781,5806,5823]\n",
    "\n",
    "print(average(DK_population))\n",
    "\n",
    "#basically the same as the for loop, but it is not tied to the variable DK_population"
   ]
  },
  {
   "cell_type": "code",
   "execution_count": 4,
   "metadata": {},
   "outputs": [
    {
     "name": "stdout",
     "output_type": "stream",
     "text": [
      "6.75\n",
      "5.475\n"
     ]
    }
   ],
   "source": [
    "#Trying the function with other types of lists (int and floats)\n",
    "\n",
    "#list of integers\n",
    "int_list = [5,3,8,11]\n",
    "float_list = [3.6, 8.8, 1.3, 8.2]\n",
    "\n",
    "#calculate average\n",
    "my_average1 = average(int_list)\n",
    "my_average2 = average(float_list)\n",
    "\n",
    "#print average\n",
    "print(my_average1)\n",
    "print(my_average2)\n"
   ]
  },
  {
   "cell_type": "code",
   "execution_count": 6,
   "metadata": {},
   "outputs": [
    {
     "ename": "TypeError",
     "evalue": "unsupported operand type(s) for +=: 'int' and 'str'",
     "output_type": "error",
     "traceback": [
      "\u001b[1;31m---------------------------------------------------------------------------\u001b[0m",
      "\u001b[1;31mTypeError\u001b[0m                                 Traceback (most recent call last)",
      "\u001b[1;32m<ipython-input-6-b6948c9c4632>\u001b[0m in \u001b[0;36m<module>\u001b[1;34m\u001b[0m\n\u001b[0;32m      1\u001b[0m \u001b[1;31m#Testing average function with a different list\u001b[0m\u001b[1;33m\u001b[0m\u001b[1;33m\u001b[0m\u001b[1;33m\u001b[0m\u001b[0m\n\u001b[0;32m      2\u001b[0m \u001b[0mmixed_list\u001b[0m \u001b[1;33m=\u001b[0m \u001b[1;33m[\u001b[0m\u001b[1;34m'1.3'\u001b[0m\u001b[1;33m,\u001b[0m\u001b[1;34m'a'\u001b[0m\u001b[1;33m,\u001b[0m\u001b[1;36m3\u001b[0m\u001b[1;33m,\u001b[0m\u001b[1;36m9\u001b[0m\u001b[1;33m]\u001b[0m\u001b[1;33m\u001b[0m\u001b[1;33m\u001b[0m\u001b[0m\n\u001b[1;32m----> 3\u001b[1;33m \u001b[0mmy_average3\u001b[0m \u001b[1;33m=\u001b[0m \u001b[0maverage\u001b[0m\u001b[1;33m(\u001b[0m\u001b[0mmixed_list\u001b[0m\u001b[1;33m)\u001b[0m\u001b[1;33m\u001b[0m\u001b[1;33m\u001b[0m\u001b[0m\n\u001b[0m\u001b[0;32m      4\u001b[0m \u001b[0mprint\u001b[0m\u001b[1;33m(\u001b[0m\u001b[0mmy_average3\u001b[0m\u001b[1;33m)\u001b[0m\u001b[1;33m\u001b[0m\u001b[1;33m\u001b[0m\u001b[0m\n",
      "\u001b[1;32m<ipython-input-1-83b08ee7fb64>\u001b[0m in \u001b[0;36maverage\u001b[1;34m(my_list)\u001b[0m\n\u001b[0;32m     23\u001b[0m     \u001b[0mavg\u001b[0m \u001b[1;33m=\u001b[0m \u001b[1;36m0\u001b[0m\u001b[1;33m\u001b[0m\u001b[1;33m\u001b[0m\u001b[0m\n\u001b[0;32m     24\u001b[0m     \u001b[1;32mfor\u001b[0m \u001b[0melements\u001b[0m \u001b[1;32min\u001b[0m \u001b[0mmy_list\u001b[0m\u001b[1;33m:\u001b[0m\u001b[1;33m\u001b[0m\u001b[1;33m\u001b[0m\u001b[0m\n\u001b[1;32m---> 25\u001b[1;33m         \u001b[0mavg\u001b[0m \u001b[1;33m+=\u001b[0m \u001b[0melements\u001b[0m\u001b[1;33m\u001b[0m\u001b[1;33m\u001b[0m\u001b[0m\n\u001b[0m\u001b[0;32m     26\u001b[0m     \u001b[1;32mreturn\u001b[0m\u001b[1;33m(\u001b[0m\u001b[0mavg\u001b[0m\u001b[1;33m/\u001b[0m\u001b[0mlen\u001b[0m\u001b[1;33m(\u001b[0m\u001b[0mmy_list\u001b[0m\u001b[1;33m)\u001b[0m\u001b[1;33m)\u001b[0m\u001b[1;33m\u001b[0m\u001b[1;33m\u001b[0m\u001b[0m\n",
      "\u001b[1;31mTypeError\u001b[0m: unsupported operand type(s) for +=: 'int' and 'str'"
     ]
    }
   ],
   "source": [
    "#Testing average function with a different list\n",
    "mixed_list = ['1.3','a',3,9]\n",
    "my_average3 = average(mixed_list)\n",
    "print(my_average3)\n",
    "\n",
    "#The error shows that mixing types of variables do not work with functions. "
   ]
  },
  {
   "cell_type": "code",
   "execution_count": null,
   "metadata": {},
   "outputs": [],
   "source": [
    "#Testing is important for eliminating errors from a program and one's analysis\n",
    "#But test in a separate cell that isn't the same as the original code\n",
    "#Typically testing is typical inputs, expectation of error, boundary"
   ]
  },
  {
   "cell_type": "code",
   "execution_count": 10,
   "metadata": {},
   "outputs": [],
   "source": [
    "#all the above are tests of our function 'average'. \n",
    "#we learned that there are problems if 'average' gets a list that includes \n",
    "#elements that are not strings\n",
    "#making a new function better_average that includes error handling\n",
    "\n",
    "#Here we try to catch errors. \n",
    "#If statements help up check conditions. \n",
    "#Try is helpful if one knows something MIGHT cause an error. \n",
    "#Elements are just a choice of code for the variable name, similiar to writing 'i'\n",
    "\n",
    "\n",
    "def better_average(a_list): \n",
    "    avg = 0\n",
    "    \n",
    "    for element in a_list:\n",
    "        try:\n",
    "            value = float(element)\n",
    "        except ValueError: \n",
    "            print(\"This list includes elements that are not numbers. An average cannot be calculated.\")\n",
    "            return None\n",
    "        else:\n",
    "            avg += value\n",
    "    return (avg / len(a_list))"
   ]
  },
  {
   "cell_type": "code",
   "execution_count": null,
   "metadata": {},
   "outputs": [],
   "source": [
    "#Variables declared within a function ONLY exist within THAT function.\n",
    "#Variables within a function only have a LOCAL scope. \n",
    "#This is why we return the value\n",
    "#Variables declared outside the function have a GLOBAL scope. \n",
    "\n",
    "#examples\n",
    "\n",
    "def my_function():\n",
    "    a = 30"
   ]
  },
  {
   "cell_type": "code",
   "execution_count": 9,
   "metadata": {},
   "outputs": [
    {
     "ename": "NameError",
     "evalue": "name 'a' is not defined",
     "output_type": "error",
     "traceback": [
      "\u001b[1;31m---------------------------------------------------------------------------\u001b[0m",
      "\u001b[1;31mNameError\u001b[0m                                 Traceback (most recent call last)",
      "\u001b[1;32m<ipython-input-9-e6c56321a4d1>\u001b[0m in \u001b[0;36m<module>\u001b[1;34m\u001b[0m\n\u001b[0;32m      1\u001b[0m \u001b[1;31m#if we write a here, it will cause an error.\u001b[0m\u001b[1;33m\u001b[0m\u001b[1;33m\u001b[0m\u001b[1;33m\u001b[0m\u001b[0m\n\u001b[1;32m----> 2\u001b[1;33m \u001b[0mprint\u001b[0m\u001b[1;33m(\u001b[0m\u001b[0ma\u001b[0m\u001b[1;33m)\u001b[0m\u001b[1;33m\u001b[0m\u001b[1;33m\u001b[0m\u001b[0m\n\u001b[0m",
      "\u001b[1;31mNameError\u001b[0m: name 'a' is not defined"
     ]
    }
   ],
   "source": [
    "#if we write a here, it will cause an error. \n",
    "print(a)\n",
    "\n",
    "#it causes an error, because a was only defined in the function in the previous cell."
   ]
  },
  {
   "cell_type": "code",
   "execution_count": null,
   "metadata": {},
   "outputs": [],
   "source": [
    "#Creating a function is like creating a contract(with the rest of the one's code)\n",
    "#about how a function will operate\n",
    "#Type out good documentation on functions, because it leads to good readability\n",
    "#and reusability"
   ]
  },
  {
   "cell_type": "code",
   "execution_count": 11,
   "metadata": {},
   "outputs": [
    {
     "name": "stdout",
     "output_type": "stream",
     "text": [
      "This list includes elements that are not numbers. An average cannot be calculated.\n",
      "6.75\n",
      "5.475\n",
      "None\n"
     ]
    }
   ],
   "source": [
    "\n",
    "\n",
    "#Testing average function with our previously declared list\n",
    "b_avg_var1 = better_average(int_list)\n",
    "b_avg_var2 = better_average(float_list)\n",
    "b_avg_var3 = better_average(mixed_list)\n",
    "print(b_avg_var1)\n",
    "print(b_avg_var2)\n",
    "print(b_avg_var3)"
   ]
  },
  {
   "cell_type": "code",
   "execution_count": null,
   "metadata": {},
   "outputs": [],
   "source": [
    "#Text files.\n",
    "#4 key things to do with text files: Opening, reading, writing and closing\n",
    "#Also known as IO (input-output)\n",
    "\n",
    "#To read or write text files, you first have to open it. \n",
    "#For now we are hardcoding the text file name into our code. Otherwise, we could ask for input. \n",
    "\n",
    "#read and write start at the beginning of the file, append. "
   ]
  },
  {
   "cell_type": "code",
   "execution_count": 12,
   "metadata": {},
   "outputs": [],
   "source": [
    "#Opening a file\n",
    "f = open('course_description.txt', 'r')"
   ]
  },
  {
   "cell_type": "code",
   "execution_count": null,
   "metadata": {},
   "outputs": [],
   "source": [
    "#as it is open, we can do things with the file now.\n",
    "#Reading the file into a string with file.read()\n",
    "#Not recommended for really big files\n",
    "\n",
    "#read a single line.\n",
    "#file.readline() <-- a line end with a \"\\n\" or newline character. \n",
    "#loops can be used to read lines.\n",
    "\n"
   ]
  },
  {
   "cell_type": "code",
   "execution_count": 13,
   "metadata": {},
   "outputs": [],
   "source": [
    "#reading the first line of the file\n",
    "first_string = f.readline()"
   ]
  },
  {
   "cell_type": "code",
   "execution_count": 14,
   "metadata": {},
   "outputs": [
    {
     "name": "stdout",
     "output_type": "stream",
     "text": [
      "The rise of new types of digital data and the varieties of social life taking place on social media platforms enable new relations between quantitative and qualitative methods of inquiry and analysis. How such new complementarities are best exploited for social-scientific and practical purposes will be the focus of this course.\n",
      "\n"
     ]
    }
   ],
   "source": [
    "#printing to see what the first line is\n",
    "print(first_string)"
   ]
  },
  {
   "cell_type": "code",
   "execution_count": null,
   "metadata": {},
   "outputs": [],
   "source": [
    "#We may also want to write strings into files with file.write(\"this is something new\")\n",
    "#Strings will be concatenated (added together) with multiple writes\n",
    "#The file needs to be opened in write/append mode to be able to write to it. \n",
    "#CAUTION. Write mode will overwrite what's already in the file."
   ]
  },
  {
   "cell_type": "code",
   "execution_count": 15,
   "metadata": {},
   "outputs": [
    {
     "data": {
      "text/plain": [
       "31"
      ]
     },
     "execution_count": 15,
     "metadata": {},
     "output_type": "execute_result"
    }
   ],
   "source": [
    "#Opening a file to write\n",
    "#Note: If this file already exists, it will be overwritten\n",
    "f2 = open('new_file.txt', 'w')\n",
    "\n",
    "#Writing to the file\n",
    "f2.write(\"I am writing a new file big man\")"
   ]
  },
  {
   "cell_type": "code",
   "execution_count": null,
   "metadata": {},
   "outputs": [],
   "source": []
  },
  {
   "cell_type": "code",
   "execution_count": 16,
   "metadata": {},
   "outputs": [],
   "source": [
    "#Necessary to close file to save it. It will also appear faster as a written document. \n",
    "#Closing all our files\n",
    "f.close()\n",
    "f2.close()"
   ]
  },
  {
   "cell_type": "code",
   "execution_count": 17,
   "metadata": {},
   "outputs": [
    {
     "ename": "NameError",
     "evalue": "name 'os' is not defined",
     "output_type": "error",
     "traceback": [
      "\u001b[1;31m---------------------------------------------------------------------------\u001b[0m",
      "\u001b[1;31mNameError\u001b[0m                                 Traceback (most recent call last)",
      "\u001b[1;32m<ipython-input-17-3aead9bfb50c>\u001b[0m in \u001b[0;36m<module>\u001b[1;34m\u001b[0m\n\u001b[0;32m      8\u001b[0m \u001b[1;31m#os.getcwd () returns the directory\u001b[0m\u001b[1;33m\u001b[0m\u001b[1;33m\u001b[0m\u001b[1;33m\u001b[0m\u001b[0m\n\u001b[0;32m      9\u001b[0m \u001b[1;31m#\u001b[0m\u001b[1;33m\u001b[0m\u001b[1;33m\u001b[0m\u001b[1;33m\u001b[0m\u001b[0m\n\u001b[1;32m---> 10\u001b[1;33m \u001b[0mos\u001b[0m\u001b[1;33m.\u001b[0m\u001b[0mlistdir\u001b[0m\u001b[1;33m(\u001b[0m\u001b[0mx\u001b[0m\u001b[1;33m)\u001b[0m\u001b[1;33m\u001b[0m\u001b[1;33m\u001b[0m\u001b[0m\n\u001b[0m",
      "\u001b[1;31mNameError\u001b[0m: name 'os' is not defined"
     ]
    }
   ],
   "source": [
    "#Navigating file system.\n",
    "#a library is called 'os'\n",
    "\n",
    "#os.listdir(x) gives a list of files in x(x is a directory)\n",
    "\n",
    "#lots of functions with library\n",
    "#os.rename (original filename, new filename) <-- both filenames should be strings\n",
    "#os.getcwd () <-- returns the directory name of the current working directory\n",
    "#os.mkdir(directory path) <-- makes a new directory with path specified\n",
    "\n",
    "#CAUTION. These commands will change files and commands on the computer."
   ]
  },
  {
   "cell_type": "code",
   "execution_count": 24,
   "metadata": {},
   "outputs": [
    {
     "name": "stdout",
     "output_type": "stream",
     "text": [
      ".git\n",
      ".gitattributes\n",
      ".ipynb_checkpoints\n",
      "course_description.txt\n",
      "Function exercise 17.02.2020.ipynb\n",
      "new_file.txt\n",
      "octocat.png\n",
      "output.txt\n",
      "README.md\n",
      "sodas_people.txt\n",
      "Speech_2019.txt\n",
      "stop_words.txt\n",
      "Untitled.ipynb\n",
      "W1D2-3_2_commenting.ipynb\n",
      "W1D2-3_2_commenting.py\n",
      "W2D1-Exercise1.ipynb\n",
      "W2D1-Exercise1_sol.ipynb\n",
      "W2D2-Exercise2.ipynb\n",
      "W2D2-Exercise_sol.ipynb\n",
      "W3D1 Demo.ipynb\n",
      "W3D1-Exercise3.ipynb\n",
      "xxx 18.02.2020.ipynb\n"
     ]
    }
   ],
   "source": [
    "#Importing our first library\n",
    "import os\n",
    "\n",
    "#looping through all of the files in the current directory (the dots mark the current directory)\n",
    "for filename in os.listdir('.'):\n",
    "    #printing the files\n",
    "    print(filename)"
   ]
  },
  {
   "cell_type": "code",
   "execution_count": 26,
   "metadata": {},
   "outputs": [],
   "source": [
    "#writing something new. Creating a new file. \n",
    "\n",
    "file = open(\"./new_file_18022020.txt\", \"w\")"
   ]
  },
  {
   "cell_type": "code",
   "execution_count": 27,
   "metadata": {},
   "outputs": [],
   "source": [
    "#Regular expressions. \n",
    "#Our second library. The command 're'\n",
    "#Regular expressions help you find patterns in text\n",
    "#Useful to find things that follow specific formats or have minor variations. \n",
    "\n",
    "#3 key functions for finding a pattern:\n",
    "#re.match(pattern, string) <-- Tries to find the pattern at the start of the string\n",
    "#re.search(pattern, string) <--Tries to find the pattern anywhere in the string\n",
    "#re.findall(pattern, string) <--\n",
    "\n",
    "#Regular expressions use special characters to mark pieces of patterns. USE ONLINE RESOURCES. \n",
    "#‘.’ ← any character other than a new line\n",
    "#‘\\s’ ← any whitespace○\n",
    "#‘\\d’ ← any digit (0 - 9)\n",
    "#‘\\w’ ← any alphanumeric character (i.e. a - z, A-Z, 0-9)\n",
    "#‘[x]’ ← will match any single character inside the brackets, e.g. [x] will match x, [abc] will match a, b, or c \n",
    "#‘?’ ← indicates zero or one times (e.g. ca?t will match ct or cat)\n",
    "#‘*’ ← indicates repetition, zero or more times (e.g. ca*t will match ct, cat, caat, caaat, and so on).\n",
    "#‘+’ ← indicates repetition, one or more times (e.g. ca+t will match cat, caat, caaat, and so on, but not ct)\n",
    "#{x} ← indicates repeating the previous group x number of times. A group is defined in parentheses ( )\n",
    "#‘^’ ← indicates not (e.g. ^\\s would be any character that’s not whitespace)\n",
    "#(x|y) ←\n",
    "\n",
    "#re.search(pattern, string) and re.match(pattern, string) return a match. \n",
    "#Object if a match was found\n",
    "#a match object includes the subgroup matches of your pattern\n",
    "#a successful match \n"
   ]
  },
  {
   "cell_type": "code",
   "execution_count": 37,
   "metadata": {},
   "outputs": [
    {
     "ename": "SyntaxError",
     "evalue": "unexpected character after line continuation character (<ipython-input-37-1c386b2a6d0c>, line 6)",
     "output_type": "error",
     "traceback": [
      "\u001b[1;36m  File \u001b[1;32m\"<ipython-input-37-1c386b2a6d0c>\"\u001b[1;36m, line \u001b[1;32m6\u001b[0m\n\u001b[1;33m    re.search(\\d+{8}, \"42959698\")\u001b[0m\n\u001b[1;37m                                 ^\u001b[0m\n\u001b[1;31mSyntaxError\u001b[0m\u001b[1;31m:\u001b[0m unexpected character after line continuation character\n"
     ]
    }
   ],
   "source": [
    "#attempting to find the pattern of a phone number\n",
    "\n",
    "import re\n",
    "#using '\\d' to identify digits\n",
    "#'{8}' to indicate the 8 times a digit will appear.\n",
    "re.search('\\d'+''{8}', \"42959698\")\n",
    "\n"
   ]
  },
  {
   "cell_type": "code",
   "execution_count": null,
   "metadata": {},
   "outputs": [],
   "source": [
    "#attempting to find the pattern of an email\n",
    "re.search(\\@','\\w')"
   ]
  },
  {
   "cell_type": "code",
   "execution_count": 28,
   "metadata": {},
   "outputs": [
    {
     "data": {
      "text/plain": [
       "<re.Match object; span=(5, 6), match=' '>"
      ]
     },
     "execution_count": 28,
     "metadata": {},
     "output_type": "execute_result"
    }
   ],
   "source": [
    "import re\n",
    "\n",
    "re.search('\\s', \"there is a string\")"
   ]
  },
  {
   "cell_type": "code",
   "execution_count": 30,
   "metadata": {},
   "outputs": [
    {
     "name": "stdout",
     "output_type": "stream",
     "text": [
      "None\n"
     ]
    }
   ],
   "source": [
    "import re\n",
    "\n",
    "print(re.match('\\s', \"there is a string\"))"
   ]
  },
  {
   "cell_type": "code",
   "execution_count": 39,
   "metadata": {},
   "outputs": [
    {
     "name": "stdout",
     "output_type": "stream",
     "text": [
      "<re.Match object; span=(0, 19), match='qmh604@alumni.ku.dk'>\n",
      "None\n"
     ]
    }
   ],
   "source": [
    "import re\n",
    "#our regular expression pattern for an email\n",
    "#capital S because it is NOT whitespace. Capital letters are NOT. \n",
    "email_pattern = '(\\S+@\\S+\\.(\\w){2,3})'\n",
    "\n",
    "#test the email pattern on a specific email\n",
    "\n",
    "#Our test cases\n",
    "print(re.search(email_pattern, 'qmh604@alumni.ku.dk'))\n",
    "print(re.search(email_pattern, 'I\\'ll be @ work'))"
   ]
  },
  {
   "cell_type": "code",
   "execution_count": 40,
   "metadata": {},
   "outputs": [],
   "source": [
    "#Creating a function that finds the emails in a file\n",
    "#Takes a filename as input\n",
    "def read_emails(filename):\n",
    "    #import regular expressions\n",
    "    import re\n",
    "\n",
    "    #our regular expression pattern for an email\n",
    "    email_pattern = '(\\S+@\\S+\\.(\\w){2,3})'\n",
    "\n",
    "    #Opening file\n",
    "    file = open(filename,'r')\n",
    "    #Create empty list to store emails\n",
    "    emails = []\n",
    "\n",
    "    #loop through each line in the file\n",
    "    for line in file:\n",
    "        #try to search for an email\n",
    "        temp_email = re.search(email_pattern, line)\n",
    "        \n",
    "        #If an email was found, add it to the list\n",
    "        if temp_email: \n",
    "            emails.append(temp_email.group())\n",
    "\n",
    "    #Close the file, since we're done with it\n",
    "    file.close()\n",
    "    \n",
    "    #removing the file extension\n",
    "    short_name = filename.split('.')[0]\n",
    "    print(short_name)\n",
    "    \n",
    "    #Create a new file for the email names\n",
    "    email_file = open(short_name +'_emails.txt', 'w')\n",
    "\n",
    "    #go through each email in the list and write the email to the new file\n",
    "    for element in emails:\n",
    "        email_file.write(element + '\\n')\n",
    "\n",
    "    #Close the new file with all the emails\n",
    "    email_file.close()\n"
   ]
  },
  {
   "cell_type": "code",
   "execution_count": 41,
   "metadata": {},
   "outputs": [
    {
     "name": "stdout",
     "output_type": "stream",
     "text": [
      "sodas_people\n"
     ]
    }
   ],
   "source": [
    "#Testing our function\n",
    "read_emails('sodas_people.txt')"
   ]
  },
  {
   "cell_type": "code",
   "execution_count": null,
   "metadata": {},
   "outputs": [],
   "source": []
  }
 ],
 "metadata": {
  "kernelspec": {
   "display_name": "Python 3",
   "language": "python",
   "name": "python3"
  },
  "language_info": {
   "codemirror_mode": {
    "name": "ipython",
    "version": 3
   },
   "file_extension": ".py",
   "mimetype": "text/x-python",
   "name": "python",
   "nbconvert_exporter": "python",
   "pygments_lexer": "ipython3",
   "version": "3.7.4"
  }
 },
 "nbformat": 4,
 "nbformat_minor": 2
}
